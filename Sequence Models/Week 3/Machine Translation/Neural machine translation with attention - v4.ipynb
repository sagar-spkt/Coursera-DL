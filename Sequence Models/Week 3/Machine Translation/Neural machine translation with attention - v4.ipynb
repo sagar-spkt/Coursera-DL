{
 "cells": [
  {
   "cell_type": "markdown",
   "metadata": {},
   "source": [
    "# Neural Machine Translation\n",
    "\n",
    "Welcome to your first programming assignment for this week! \n",
    "\n",
    "You will build a Neural Machine Translation (NMT) model to translate human readable dates (\"25th of June, 2009\") into machine readable dates (\"2009-06-25\"). You will do this using an attention model, one of the most sophisticated sequence to sequence models. \n",
    "\n",
    "This notebook was produced together with NVIDIA's Deep Learning Institute. \n",
    "\n",
    "Let's load all the packages you will need for this assignment."
   ]
  },
  {
   "cell_type": "code",
   "execution_count": 1,
   "metadata": {
    "ExecuteTime": {
     "end_time": "2018-12-30T04:24:44.393573Z",
     "start_time": "2018-12-30T04:24:43.024647Z"
    }
   },
   "outputs": [
    {
     "name": "stderr",
     "output_type": "stream",
     "text": [
      "Using TensorFlow backend.\n"
     ]
    }
   ],
   "source": [
    "from keras.layers import Bidirectional, Concatenate, Permute, Dot, Input, LSTM, Multiply\n",
    "from keras.layers import RepeatVector, Dense, Activation, Lambda\n",
    "from keras.optimizers import Adam\n",
    "from keras.utils import to_categorical\n",
    "from keras.models import load_model, Model\n",
    "import keras.backend as K\n",
    "import numpy as np\n",
    "\n",
    "from faker import Faker\n",
    "import random\n",
    "from tqdm import tqdm\n",
    "from babel.dates import format_date\n",
    "from nmt_utils import *\n",
    "import matplotlib.pyplot as plt\n",
    "%matplotlib inline"
   ]
  },
  {
   "cell_type": "markdown",
   "metadata": {},
   "source": [
    "## 1 - Translating human readable dates into machine readable dates\n",
    "\n",
    "The model you will build here could be used to translate from one language to another, such as translating from English to Hindi. However, language translation requires massive datasets and usually takes days of training on GPUs. To give you a place to experiment with these models even without using massive datasets, we will instead use a simpler \"date translation\" task. \n",
    "\n",
    "The network will input a date written in a variety of possible formats (*e.g. \"the 29th of August 1958\", \"03/30/1968\", \"24 JUNE 1987\"*) and translate them into standardized, machine readable dates (*e.g. \"1958-08-29\", \"1968-03-30\", \"1987-06-24\"*). We will have the network learn to output dates in the common machine-readable format YYYY-MM-DD. \n",
    "\n",
    "\n",
    "\n",
    "<!-- \n",
    "Take a look at [nmt_utils.py](./nmt_utils.py) to see all the formatting. Count and figure out how the formats work, you will need this knowledge later. !--> "
   ]
  },
  {
   "cell_type": "markdown",
   "metadata": {},
   "source": [
    "### 1.1 - Dataset\n",
    "\n",
    "We will train the model on a dataset of 10000 human readable dates and their equivalent, standardized, machine readable dates. Let's run the following cells to load the dataset and print some examples. "
   ]
  },
  {
   "cell_type": "code",
   "execution_count": 2,
   "metadata": {
    "ExecuteTime": {
     "end_time": "2018-12-30T04:24:44.787810Z",
     "start_time": "2018-12-30T04:24:44.397629Z"
    }
   },
   "outputs": [
    {
     "name": "stderr",
     "output_type": "stream",
     "text": [
      "100%|██████████| 10000/10000 [00:00<00:00, 25891.04it/s]\n"
     ]
    }
   ],
   "source": [
    "m = 10000\n",
    "dataset, human_vocab, machine_vocab, inv_machine_vocab = load_dataset(m)"
   ]
  },
  {
   "cell_type": "code",
   "execution_count": 3,
   "metadata": {
    "ExecuteTime": {
     "end_time": "2018-12-30T04:24:44.793807Z",
     "start_time": "2018-12-30T04:24:44.789286Z"
    }
   },
   "outputs": [
    {
     "data": {
      "text/plain": [
       "[('9 may 1998', '1998-05-09'),\n",
       " ('10.09.70', '1970-09-10'),\n",
       " ('4/28/90', '1990-04-28'),\n",
       " ('thursday january 26 1995', '1995-01-26'),\n",
       " ('monday march 7 1983', '1983-03-07'),\n",
       " ('sunday may 22 1988', '1988-05-22'),\n",
       " ('tuesday july 8 2008', '2008-07-08'),\n",
       " ('08 sep 1999', '1999-09-08'),\n",
       " ('1 jan 1981', '1981-01-01'),\n",
       " ('monday may 22 1995', '1995-05-22')]"
      ]
     },
     "execution_count": 3,
     "metadata": {},
     "output_type": "execute_result"
    }
   ],
   "source": [
    "dataset[:10]"
   ]
  },
  {
   "cell_type": "markdown",
   "metadata": {},
   "source": [
    "You've loaded:\n",
    "- `dataset`: a list of tuples of (human readable date, machine readable date)\n",
    "- `human_vocab`: a python dictionary mapping all characters used in the human readable dates to an integer-valued index \n",
    "- `machine_vocab`: a python dictionary mapping all characters used in machine readable dates to an integer-valued index. These indices are not necessarily consistent with `human_vocab`. \n",
    "- `inv_machine_vocab`: the inverse dictionary of `machine_vocab`, mapping from indices back to characters. \n",
    "\n",
    "Let's preprocess the data and map the raw text data into the index values. We will also use Tx=30 (which we assume is the maximum length of the human readable date; if we get a longer input, we would have to truncate it) and Ty=10 (since \"YYYY-MM-DD\" is 10 characters long). "
   ]
  },
  {
   "cell_type": "code",
   "execution_count": 4,
   "metadata": {
    "ExecuteTime": {
     "end_time": "2018-12-30T04:24:45.080096Z",
     "start_time": "2018-12-30T04:24:44.795900Z"
    }
   },
   "outputs": [
    {
     "name": "stdout",
     "output_type": "stream",
     "text": [
      "X.shape: (10000, 30)\n",
      "Y.shape: (10000, 10)\n",
      "Xoh.shape: (10000, 30, 37)\n",
      "Yoh.shape: (10000, 10, 11)\n"
     ]
    }
   ],
   "source": [
    "Tx = 30\n",
    "Ty = 10\n",
    "X, Y, Xoh, Yoh = preprocess_data(dataset, human_vocab, machine_vocab, Tx, Ty)\n",
    "\n",
    "print(\"X.shape:\", X.shape)\n",
    "print(\"Y.shape:\", Y.shape)\n",
    "print(\"Xoh.shape:\", Xoh.shape)\n",
    "print(\"Yoh.shape:\", Yoh.shape)"
   ]
  },
  {
   "cell_type": "markdown",
   "metadata": {},
   "source": [
    "You now have:\n",
    "- `X`: a processed version of the human readable dates in the training set, where each character is replaced by an index mapped to the character via `human_vocab`. Each date is further padded to $T_x$ values with a special character (< pad >). `X.shape = (m, Tx)`\n",
    "- `Y`: a processed version of the machine readable dates in the training set, where each character is replaced by the index it is mapped to in `machine_vocab`. You should have `Y.shape = (m, Ty)`. \n",
    "- `Xoh`: one-hot version of `X`, the \"1\" entry's index is mapped to the character thanks to `human_vocab`. `Xoh.shape = (m, Tx, len(human_vocab))`\n",
    "- `Yoh`: one-hot version of `Y`, the \"1\" entry's index is mapped to the character thanks to `machine_vocab`. `Yoh.shape = (m, Tx, len(machine_vocab))`. Here, `len(machine_vocab) = 11` since there are 11 characters ('-' as well as 0-9). \n"
   ]
  },
  {
   "cell_type": "markdown",
   "metadata": {},
   "source": [
    "Lets also look at some examples of preprocessed training examples. Feel free to play with `index` in the cell below to navigate the dataset and see how source/target dates are preprocessed. "
   ]
  },
  {
   "cell_type": "code",
   "execution_count": 5,
   "metadata": {
    "ExecuteTime": {
     "end_time": "2018-12-30T04:24:45.090425Z",
     "start_time": "2018-12-30T04:24:45.083986Z"
    }
   },
   "outputs": [
    {
     "name": "stdout",
     "output_type": "stream",
     "text": [
      "Source date: 9 may 1998\n",
      "Target date: 1998-05-09\n",
      "\n",
      "Source after preprocessing (indices): [12  0 24 13 34  0  4 12 12 11 36 36 36 36 36 36 36 36 36 36 36 36 36 36\n",
      " 36 36 36 36 36 36]\n",
      "Target after preprocessing (indices): [ 2 10 10  9  0  1  6  0  1 10]\n",
      "\n",
      "Source after preprocessing (one-hot): [[0. 0. 0. ... 0. 0. 0.]\n",
      " [1. 0. 0. ... 0. 0. 0.]\n",
      " [0. 0. 0. ... 0. 0. 0.]\n",
      " ...\n",
      " [0. 0. 0. ... 0. 0. 1.]\n",
      " [0. 0. 0. ... 0. 0. 1.]\n",
      " [0. 0. 0. ... 0. 0. 1.]]\n",
      "Target after preprocessing (one-hot): [[0. 0. 1. 0. 0. 0. 0. 0. 0. 0. 0.]\n",
      " [0. 0. 0. 0. 0. 0. 0. 0. 0. 0. 1.]\n",
      " [0. 0. 0. 0. 0. 0. 0. 0. 0. 0. 1.]\n",
      " [0. 0. 0. 0. 0. 0. 0. 0. 0. 1. 0.]\n",
      " [1. 0. 0. 0. 0. 0. 0. 0. 0. 0. 0.]\n",
      " [0. 1. 0. 0. 0. 0. 0. 0. 0. 0. 0.]\n",
      " [0. 0. 0. 0. 0. 0. 1. 0. 0. 0. 0.]\n",
      " [1. 0. 0. 0. 0. 0. 0. 0. 0. 0. 0.]\n",
      " [0. 1. 0. 0. 0. 0. 0. 0. 0. 0. 0.]\n",
      " [0. 0. 0. 0. 0. 0. 0. 0. 0. 0. 1.]]\n"
     ]
    }
   ],
   "source": [
    "index = 0\n",
    "print(\"Source date:\", dataset[index][0])\n",
    "print(\"Target date:\", dataset[index][1])\n",
    "print()\n",
    "print(\"Source after preprocessing (indices):\", X[index])\n",
    "print(\"Target after preprocessing (indices):\", Y[index])\n",
    "print()\n",
    "print(\"Source after preprocessing (one-hot):\", Xoh[index])\n",
    "print(\"Target after preprocessing (one-hot):\", Yoh[index])"
   ]
  },
  {
   "cell_type": "markdown",
   "metadata": {},
   "source": [
    "## 2 - Neural machine translation with attention\n",
    "\n",
    "If you had to translate a book's paragraph from French to English, you would not read the whole paragraph, then close the book and translate. Even during the translation process, you would read/re-read and focus on the parts of the French paragraph corresponding to the parts of the English you are writing down. \n",
    "\n",
    "The attention mechanism tells a Neural Machine Translation model where it should pay attention to at any step. \n",
    "\n",
    "\n",
    "### 2.1 - Attention mechanism\n",
    "\n",
    "In this part, you will implement the attention mechanism presented in the lecture videos. Here is a figure to remind you how the model works. The diagram on the left shows the attention model. The diagram on the right shows what one \"Attention\" step does to calculate the attention variables $\\alpha^{\\langle t, t' \\rangle}$, which are used to compute the context variable $context^{\\langle t \\rangle}$ for each timestep in the output ($t=1, \\ldots, T_y$). \n",
    "\n",
    "<table>\n",
    "<td> \n",
    "<img src=\"images/attn_model.png\" style=\"width:500;height:500px;\"> <br>\n",
    "</td> \n",
    "<td> \n",
    "<img src=\"images/attn_mechanism.png\" style=\"width:500;height:500px;\"> <br>\n",
    "</td> \n",
    "</table>\n",
    "<caption><center> **Figure 1**: Neural machine translation with attention</center></caption>\n"
   ]
  },
  {
   "cell_type": "markdown",
   "metadata": {},
   "source": [
    "\n",
    "Here are some properties of the model that you may notice: \n",
    "\n",
    "- There are two separate LSTMs in this model (see diagram on the left). Because the one at the bottom of the picture is a Bi-directional LSTM and comes *before* the attention mechanism, we will call it *pre-attention* Bi-LSTM. The LSTM at the top of the diagram comes *after* the attention mechanism, so we will call it the *post-attention* LSTM. The pre-attention Bi-LSTM goes through $T_x$ time steps; the post-attention LSTM goes through $T_y$ time steps. \n",
    "\n",
    "- The post-attention LSTM passes $s^{\\langle t \\rangle}, c^{\\langle t \\rangle}$ from one time step to the next. In the lecture videos, we were using only a basic RNN for the post-activation sequence model, so the state captured by the RNN output activations $s^{\\langle t\\rangle}$. But since we are using an LSTM here, the LSTM has both the output activation $s^{\\langle t\\rangle}$ and the hidden cell state $c^{\\langle t\\rangle}$. However, unlike previous text generation examples (such as Dinosaurus in week 1), in this model the post-activation LSTM at time $t$ does will not take the specific generated $y^{\\langle t-1 \\rangle}$ as input; it only takes $s^{\\langle t\\rangle}$ and $c^{\\langle t\\rangle}$ as input. We have designed the model this way, because (unlike language generation where adjacent characters are highly correlated) there isn't as strong a dependency between the previous character and the next character in a YYYY-MM-DD date. \n",
    "\n",
    "- We use $a^{\\langle t \\rangle} = [\\overrightarrow{a}^{\\langle t \\rangle}; \\overleftarrow{a}^{\\langle t \\rangle}]$ to represent the concatenation of the activations of both the forward-direction and backward-directions of the pre-attention Bi-LSTM. \n",
    "\n",
    "- The diagram on the right uses a `RepeatVector` node to copy $s^{\\langle t-1 \\rangle}$'s value $T_x$ times, and then `Concatenation` to concatenate $s^{\\langle t-1 \\rangle}$ and $a^{\\langle t \\rangle}$ to compute $e^{\\langle t, t'}$, which is then passed through a softmax to compute $\\alpha^{\\langle t, t' \\rangle}$. We'll explain how to use `RepeatVector` and `Concatenation` in Keras below. \n",
    "\n",
    "Lets implement this model. You will start by implementing two functions: `one_step_attention()` and `model()`.\n",
    "\n",
    "**1) `one_step_attention()`**: At step $t$, given all the hidden states of the Bi-LSTM ($[a^{<1>},a^{<2>}, ..., a^{<T_x>}]$) and the previous hidden state of the second LSTM ($s^{<t-1>}$), `one_step_attention()` will compute the attention weights ($[\\alpha^{<t,1>},\\alpha^{<t,2>}, ..., \\alpha^{<t,T_x>}]$) and output the context vector (see Figure  1 (right) for details):\n",
    "$$context^{<t>} = \\sum_{t' = 0}^{T_x} \\alpha^{<t,t'>}a^{<t'>}\\tag{1}$$ \n",
    "\n",
    "Note that we are denoting the attention in this notebook $context^{\\langle t \\rangle}$. In the lecture videos, the context was denoted $c^{\\langle t \\rangle}$, but here we are calling it $context^{\\langle t \\rangle}$ to avoid confusion with the (post-attention) LSTM's internal memory cell variable, which is sometimes also denoted $c^{\\langle t \\rangle}$. \n",
    "  \n",
    "**2) `model()`**: Implements the entire model. It first runs the input through a Bi-LSTM to get back $[a^{<1>},a^{<2>}, ..., a^{<T_x>}]$. Then, it calls `one_step_attention()` $T_y$ times (`for` loop). At each iteration of this loop, it gives the computed context vector $c^{<t>}$ to the second LSTM, and runs the output of the LSTM through a dense layer with softmax activation to generate a prediction $\\hat{y}^{<t>}$. \n",
    "\n",
    "\n",
    "\n",
    "**Exercise**: Implement `one_step_attention()`. The function `model()` will call the layers in `one_step_attention()` $T_y$ using a for-loop, and it is important that all $T_y$ copies have the same weights. I.e., it should not re-initiaiize the weights every time. In other words, all $T_y$ steps should have shared weights. Here's how you can implement layers with shareable weights in Keras:\n",
    "1. Define the layer objects (as global variables for examples).\n",
    "2. Call these objects when propagating the input.\n",
    "\n",
    "We have defined the layers you need as global variables. Please run the following cells to create them. Please check the Keras documentation to make sure you understand what these layers are: [RepeatVector()](https://keras.io/layers/core/#repeatvector), [Concatenate()](https://keras.io/layers/merge/#concatenate), [Dense()](https://keras.io/layers/core/#dense), [Activation()](https://keras.io/layers/core/#activation), [Dot()](https://keras.io/layers/merge/#dot)."
   ]
  },
  {
   "cell_type": "code",
   "execution_count": 6,
   "metadata": {
    "ExecuteTime": {
     "end_time": "2018-12-30T04:24:45.103901Z",
     "start_time": "2018-12-30T04:24:45.092429Z"
    }
   },
   "outputs": [],
   "source": [
    "# Defined shared layers as global variables\n",
    "repeator = RepeatVector(Tx)\n",
    "concatenator = Concatenate(axis=-1)\n",
    "densor1 = Dense(10, activation = \"tanh\")\n",
    "densor2 = Dense(1, activation = \"relu\")\n",
    "activator = Activation(softmax, name='attention_weights') # We are using a custom softmax(axis = 1) loaded in this notebook\n",
    "dotor = Dot(axes = 1)"
   ]
  },
  {
   "cell_type": "markdown",
   "metadata": {},
   "source": [
    "Now you can use these layers to implement `one_step_attention()`. In order to propagate a Keras tensor object X through one of these layers, use `layer(X)` (or `layer([X,Y])` if it requires multiple inputs.), e.g. `densor(X)` will propagate X through the `Dense(1)` layer defined above."
   ]
  },
  {
   "cell_type": "code",
   "execution_count": 7,
   "metadata": {
    "ExecuteTime": {
     "end_time": "2018-12-30T04:24:45.108974Z",
     "start_time": "2018-12-30T04:24:45.105341Z"
    }
   },
   "outputs": [],
   "source": [
    "# GRADED FUNCTION: one_step_attention\n",
    "\n",
    "def one_step_attention(a, s_prev):\n",
    "    \"\"\"\n",
    "    Performs one step of attention: Outputs a context vector computed as a dot product of the attention weights\n",
    "    \"alphas\" and the hidden states \"a\" of the Bi-LSTM.\n",
    "    \n",
    "    Arguments:\n",
    "    a -- hidden state output of the Bi-LSTM, numpy-array of shape (m, Tx, 2*n_a)\n",
    "    s_prev -- previous hidden state of the (post-attention) LSTM, numpy-array of shape (m, n_s)\n",
    "    \n",
    "    Returns:\n",
    "    context -- context vector, input of the next (post-attetion) LSTM cell\n",
    "    \"\"\"\n",
    "    \n",
    "    ### START CODE HERE ###\n",
    "    # Use repeator to repeat s_prev to be of shape (m, Tx, n_s) so that you can concatenate it with all hidden states \"a\" (≈ 1 line)\n",
    "    s_prev = repeator(s_prev)\n",
    "    # Use concatenator to concatenate a and s_prev on the last axis (≈ 1 line)\n",
    "    concat = concatenator([a, s_prev])\n",
    "    # Use densor1 to propagate concat through a small fully-connected neural network to compute the \"intermediate energies\" variable e. (≈1 lines)\n",
    "    e = densor1(concat)\n",
    "    # Use densor2 to propagate e through a small fully-connected neural network to compute the \"energies\" variable energies. (≈1 lines)\n",
    "    energies = densor2(e)\n",
    "    # Use \"activator\" on \"energies\" to compute the attention weights \"alphas\" (≈ 1 line)\n",
    "    alphas = activator(energies)\n",
    "    # Use dotor together with \"alphas\" and \"a\" to compute the context vector to be given to the next (post-attention) LSTM-cell (≈ 1 line)\n",
    "    context = dotor([alphas, a])\n",
    "    ### END CODE HERE ###\n",
    "    \n",
    "    return context"
   ]
  },
  {
   "cell_type": "markdown",
   "metadata": {},
   "source": [
    "You will be able to check the expected output of `one_step_attention()` after you've coded the `model()` function."
   ]
  },
  {
   "cell_type": "markdown",
   "metadata": {},
   "source": [
    "**Exercise**: Implement `model()` as explained in figure 2 and the text above. Again, we have defined global layers that will share weights to be used in `model()`."
   ]
  },
  {
   "cell_type": "code",
   "execution_count": 8,
   "metadata": {
    "ExecuteTime": {
     "end_time": "2018-12-30T04:24:45.113566Z",
     "start_time": "2018-12-30T04:24:45.110287Z"
    }
   },
   "outputs": [],
   "source": [
    "n_a = 32\n",
    "n_s = 64\n",
    "post_activation_LSTM_cell = LSTM(n_s, return_state = True)\n",
    "output_layer = Dense(len(machine_vocab), activation=softmax)"
   ]
  },
  {
   "cell_type": "markdown",
   "metadata": {},
   "source": [
    "Now you can use these layers $T_y$ times in a `for` loop to generate the outputs, and their parameters will not be reinitialized. You will have to carry out the following steps: \n",
    "\n",
    "1. Propagate the input into a [Bidirectional](https://keras.io/layers/wrappers/#bidirectional) [LSTM](https://keras.io/layers/recurrent/#lstm)\n",
    "2. Iterate for $t = 0, \\dots, T_y-1$: \n",
    "    1. Call `one_step_attention()` on $[\\alpha^{<t,1>},\\alpha^{<t,2>}, ..., \\alpha^{<t,T_x>}]$ and $s^{<t-1>}$ to get the context vector $context^{<t>}$.\n",
    "    2. Give $context^{<t>}$ to the post-attention LSTM cell. Remember pass in the previous hidden-state $s^{\\langle t-1\\rangle}$ and cell-states $c^{\\langle t-1\\rangle}$ of this LSTM using `initial_state= [previous hidden state, previous cell state]`. Get back the new hidden state $s^{<t>}$ and the new cell state $c^{<t>}$.\n",
    "    3. Apply a softmax layer to $s^{<t>}$, get the output. \n",
    "    4. Save the output by adding it to the list of outputs.\n",
    "\n",
    "3. Create your Keras model instance, it should have three inputs (\"inputs\", $s^{<0>}$ and $c^{<0>}$) and output the list of \"outputs\"."
   ]
  },
  {
   "cell_type": "code",
   "execution_count": 9,
   "metadata": {
    "ExecuteTime": {
     "end_time": "2018-12-30T04:24:45.120508Z",
     "start_time": "2018-12-30T04:24:45.114875Z"
    }
   },
   "outputs": [],
   "source": [
    "# GRADED FUNCTION: model\n",
    "\n",
    "def model(Tx, Ty, n_a, n_s, human_vocab_size, machine_vocab_size):\n",
    "    \"\"\"\n",
    "    Arguments:\n",
    "    Tx -- length of the input sequence\n",
    "    Ty -- length of the output sequence\n",
    "    n_a -- hidden state size of the Bi-LSTM\n",
    "    n_s -- hidden state size of the post-attention LSTM\n",
    "    human_vocab_size -- size of the python dictionary \"human_vocab\"\n",
    "    machine_vocab_size -- size of the python dictionary \"machine_vocab\"\n",
    "\n",
    "    Returns:\n",
    "    model -- Keras model instance\n",
    "    \"\"\"\n",
    "    \n",
    "    # Define the inputs of your model with a shape (Tx,)\n",
    "    # Define s0 and c0, initial hidden state for the decoder LSTM of shape (n_s,)\n",
    "    X = Input(shape=(Tx, human_vocab_size))\n",
    "    s0 = Input(shape=(n_s,), name='s0')\n",
    "    c0 = Input(shape=(n_s,), name='c0')\n",
    "    s = s0\n",
    "    c = c0\n",
    "    \n",
    "    # Initialize empty list of outputs\n",
    "    outputs = []\n",
    "    \n",
    "    ### START CODE HERE ###\n",
    "    \n",
    "    # Step 1: Define your pre-attention Bi-LSTM. Remember to use return_sequences=True. (≈ 1 line)\n",
    "    a = Bidirectional(LSTM(n_a, return_sequences=True))(X)\n",
    "    \n",
    "    # Step 2: Iterate for Ty steps\n",
    "    for t in range(Ty):\n",
    "    \n",
    "        # Step 2.A: Perform one step of the attention mechanism to get back the context vector at step t (≈ 1 line)\n",
    "        context = one_step_attention(a, s)\n",
    "        \n",
    "        # Step 2.B: Apply the post-attention LSTM cell to the \"context\" vector.\n",
    "        # Don't forget to pass: initial_state = [hidden state, cell state] (≈ 1 line)\n",
    "        s, _, c = post_activation_LSTM_cell(context, initial_state=[s, c])\n",
    "        \n",
    "        # Step 2.C: Apply Dense layer to the hidden state output of the post-attention LSTM (≈ 1 line)\n",
    "        out = output_layer(s)\n",
    "        \n",
    "        # Step 2.D: Append \"out\" to the \"outputs\" list (≈ 1 line)\n",
    "        outputs.append(out)\n",
    "    \n",
    "    # Step 3: Create model instance taking three inputs and returning the list of outputs. (≈ 1 line)\n",
    "    model = Model(inputs=[X, s0, c0], outputs=outputs)\n",
    "    \n",
    "    ### END CODE HERE ###\n",
    "    \n",
    "    return model"
   ]
  },
  {
   "cell_type": "markdown",
   "metadata": {},
   "source": [
    "Run the following cell to create your model."
   ]
  },
  {
   "cell_type": "code",
   "execution_count": 10,
   "metadata": {
    "ExecuteTime": {
     "end_time": "2018-12-30T04:24:47.307588Z",
     "start_time": "2018-12-30T04:24:45.121931Z"
    }
   },
   "outputs": [],
   "source": [
    "model = model(Tx, Ty, n_a, n_s, len(human_vocab), len(machine_vocab))"
   ]
  },
  {
   "cell_type": "code",
   "execution_count": 11,
   "metadata": {
    "ExecuteTime": {
     "end_time": "2018-12-30T04:24:47.604574Z",
     "start_time": "2018-12-30T04:24:47.309024Z"
    }
   },
   "outputs": [
    {
     "data": {
      "image/svg+xml": [
       "<svg height=\"629pt\" viewBox=\"0.00 0.00 615.50 629.00\" width=\"616pt\" xmlns=\"http://www.w3.org/2000/svg\" xmlns:xlink=\"http://www.w3.org/1999/xlink\">\n",
       "<g class=\"graph\" id=\"graph0\" transform=\"scale(1 1) rotate(0) translate(4 625)\">\n",
       "<title>G</title>\n",
       "<polygon fill=\"#ffffff\" points=\"-4,4 -4,-625 611.5,-625 611.5,4 -4,4\" stroke=\"transparent\"/>\n",
       "<!-- 140381581498744 -->\n",
       "<g class=\"node\" id=\"node1\">\n",
       "<title>140381581498744</title>\n",
       "<polygon fill=\"none\" points=\"166,-584.5 166,-620.5 291,-620.5 291,-584.5 166,-584.5\" stroke=\"#000000\"/>\n",
       "<text fill=\"#000000\" font-family=\"Times,serif\" font-size=\"14.00\" text-anchor=\"middle\" x=\"228.5\" y=\"-598.8\">input_1: InputLayer</text>\n",
       "</g>\n",
       "<!-- 140381581455312 -->\n",
       "<g class=\"node\" id=\"node3\">\n",
       "<title>140381581455312</title>\n",
       "<polygon fill=\"none\" points=\"94,-511.5 94,-547.5 363,-547.5 363,-511.5 94,-511.5\" stroke=\"#000000\"/>\n",
       "<text fill=\"#000000\" font-family=\"Times,serif\" font-size=\"14.00\" text-anchor=\"middle\" x=\"228.5\" y=\"-525.8\">bidirectional_1(lstm_2): Bidirectional(LSTM)</text>\n",
       "</g>\n",
       "<!-- 140381581498744&#45;&gt;140381581455312 -->\n",
       "<g class=\"edge\" id=\"edge1\">\n",
       "<title>140381581498744-&gt;140381581455312</title>\n",
       "<path d=\"M228.5,-584.4551C228.5,-576.3828 228.5,-566.6764 228.5,-557.6817\" fill=\"none\" stroke=\"#000000\"/>\n",
       "<polygon fill=\"#000000\" points=\"232.0001,-557.5903 228.5,-547.5904 225.0001,-557.5904 232.0001,-557.5903\" stroke=\"#000000\"/>\n",
       "</g>\n",
       "<!-- 140381581499248 -->\n",
       "<g class=\"node\" id=\"node2\">\n",
       "<title>140381581499248</title>\n",
       "<polygon fill=\"none\" points=\"82.5,-146.5 82.5,-182.5 178.5,-182.5 178.5,-146.5 82.5,-146.5\" stroke=\"#000000\"/>\n",
       "<text fill=\"#000000\" font-family=\"Times,serif\" font-size=\"14.00\" text-anchor=\"middle\" x=\"130.5\" y=\"-160.8\">s0: InputLayer</text>\n",
       "</g>\n",
       "<!-- 140381581452064 -->\n",
       "<g class=\"node\" id=\"node4\">\n",
       "<title>140381581452064</title>\n",
       "<polygon fill=\"none\" points=\"0,-.5 0,-36.5 185,-36.5 185,-.5 0,-.5\" stroke=\"#000000\"/>\n",
       "<text fill=\"#000000\" font-family=\"Times,serif\" font-size=\"14.00\" text-anchor=\"middle\" x=\"92.5\" y=\"-14.8\">repeat_vector_1: RepeatVector</text>\n",
       "</g>\n",
       "<!-- 140381581499248&#45;&gt;140381581452064 -->\n",
       "<g class=\"edge\" id=\"edge2\">\n",
       "<title>140381581499248-&gt;140381581452064</title>\n",
       "<path d=\"M125.7641,-146.3042C119.2787,-121.3868 107.5683,-76.3938 99.9146,-46.9877\" fill=\"none\" stroke=\"#000000\"/>\n",
       "<polygon fill=\"#000000\" points=\"103.2016,-45.7211 97.2956,-36.9251 96.4273,-47.4843 103.2016,-45.7211\" stroke=\"#000000\"/>\n",
       "</g>\n",
       "<!-- 140381581453856 -->\n",
       "<g class=\"node\" id=\"node11\">\n",
       "<title>140381581453856</title>\n",
       "<polygon fill=\"none\" points=\"185.5,-73.5 185.5,-109.5 283.5,-109.5 283.5,-73.5 185.5,-73.5\" stroke=\"#000000\"/>\n",
       "<text fill=\"#000000\" font-family=\"Times,serif\" font-size=\"14.00\" text-anchor=\"middle\" x=\"234.5\" y=\"-87.8\">lstm_1: LSTM</text>\n",
       "</g>\n",
       "<!-- 140381581499248&#45;&gt;140381581453856 -->\n",
       "<g class=\"edge\" id=\"edge83\">\n",
       "<title>140381581499248-&gt;140381581453856</title>\n",
       "<path d=\"M156.2079,-146.4551C169.583,-137.0667 186.1075,-125.4678 200.5232,-115.3491\" fill=\"none\" stroke=\"#000000\"/>\n",
       "<polygon fill=\"#000000\" points=\"202.5533,-118.2003 208.7274,-109.5904 198.5317,-112.4709 202.5533,-118.2003\" stroke=\"#000000\"/>\n",
       "</g>\n",
       "<!-- 140381581452008 -->\n",
       "<g class=\"node\" id=\"node5\">\n",
       "<title>140381581452008</title>\n",
       "<polygon fill=\"none\" points=\"86.5,-438.5 86.5,-474.5 254.5,-474.5 254.5,-438.5 86.5,-438.5\" stroke=\"#000000\"/>\n",
       "<text fill=\"#000000\" font-family=\"Times,serif\" font-size=\"14.00\" text-anchor=\"middle\" x=\"170.5\" y=\"-452.8\">concatenate_1: Concatenate</text>\n",
       "</g>\n",
       "<!-- 140381581455312&#45;&gt;140381581452008 -->\n",
       "<g class=\"edge\" id=\"edge12\">\n",
       "<title>140381581455312-&gt;140381581452008</title>\n",
       "<path d=\"M214.1629,-511.4551C207.2614,-502.7686 198.8563,-492.1898 191.2704,-482.642\" fill=\"none\" stroke=\"#000000\"/>\n",
       "<polygon fill=\"#000000\" points=\"193.8343,-480.2427 184.8732,-474.5904 188.3536,-484.5972 193.8343,-480.2427\" stroke=\"#000000\"/>\n",
       "</g>\n",
       "<!-- 140381581453408 -->\n",
       "<g class=\"node\" id=\"node9\">\n",
       "<title>140381581453408</title>\n",
       "<polygon fill=\"none\" points=\"197,-146.5 197,-182.5 272,-182.5 272,-146.5 197,-146.5\" stroke=\"#000000\"/>\n",
       "<text fill=\"#000000\" font-family=\"Times,serif\" font-size=\"14.00\" text-anchor=\"middle\" x=\"234.5\" y=\"-160.8\">dot_1: Dot</text>\n",
       "</g>\n",
       "<!-- 140381581455312&#45;&gt;140381581453408 -->\n",
       "<g class=\"edge\" id=\"edge63\">\n",
       "<title>140381581455312-&gt;140381581453408</title>\n",
       "<path d=\"M242.4015,-511.1793C249.5754,-500.9826 257.9602,-487.796 263.5,-475 280.1593,-436.5196 286.5,-425.4317 286.5,-383.5 286.5,-383.5 286.5,-383.5 286.5,-310.5 286.5,-268.9658 282.6973,-257.654 267.5,-219 263.7752,-209.5262 258.4637,-199.8205 253.1877,-191.2741\" fill=\"none\" stroke=\"#000000\"/>\n",
       "<polygon fill=\"#000000\" points=\"256.1216,-189.3655 247.7703,-182.8457 250.233,-193.1504 256.1216,-189.3655\" stroke=\"#000000\"/>\n",
       "</g>\n",
       "<!-- 140381581452064&#45;&gt;140381581452008 -->\n",
       "<g class=\"edge\" id=\"edge13\">\n",
       "<title>140381581452064-&gt;140381581452008</title>\n",
       "<path d=\"M84.6264,-36.5444C73.4959,-63.7381 54.5,-117.093 54.5,-164.5 54.5,-310.5 54.5,-310.5 54.5,-310.5 54.5,-362.4294 100.0429,-406.6035 134.0555,-432.3529\" fill=\"none\" stroke=\"#000000\"/>\n",
       "<polygon fill=\"#000000\" points=\"132.288,-435.3973 142.4196,-438.4959 136.4317,-429.7555 132.288,-435.3973\" stroke=\"#000000\"/>\n",
       "</g>\n",
       "<!-- 140381581452456 -->\n",
       "<g class=\"node\" id=\"node6\">\n",
       "<title>140381581452456</title>\n",
       "<polygon fill=\"none\" points=\"119.5,-365.5 119.5,-401.5 221.5,-401.5 221.5,-365.5 119.5,-365.5\" stroke=\"#000000\"/>\n",
       "<text fill=\"#000000\" font-family=\"Times,serif\" font-size=\"14.00\" text-anchor=\"middle\" x=\"170.5\" y=\"-379.8\">dense_1: Dense</text>\n",
       "</g>\n",
       "<!-- 140381581452008&#45;&gt;140381581452456 -->\n",
       "<g class=\"edge\" id=\"edge32\">\n",
       "<title>140381581452008-&gt;140381581452456</title>\n",
       "<path d=\"M170.5,-438.4551C170.5,-430.3828 170.5,-420.6764 170.5,-411.6817\" fill=\"none\" stroke=\"#000000\"/>\n",
       "<polygon fill=\"#000000\" points=\"174.0001,-411.5903 170.5,-401.5904 167.0001,-411.5904 174.0001,-411.5903\" stroke=\"#000000\"/>\n",
       "</g>\n",
       "<!-- 140381581452624 -->\n",
       "<g class=\"node\" id=\"node7\">\n",
       "<title>140381581452624</title>\n",
       "<polygon fill=\"none\" points=\"119.5,-292.5 119.5,-328.5 221.5,-328.5 221.5,-292.5 119.5,-292.5\" stroke=\"#000000\"/>\n",
       "<text fill=\"#000000\" font-family=\"Times,serif\" font-size=\"14.00\" text-anchor=\"middle\" x=\"170.5\" y=\"-306.8\">dense_2: Dense</text>\n",
       "</g>\n",
       "<!-- 140381581452456&#45;&gt;140381581452624 -->\n",
       "<g class=\"edge\" id=\"edge42\">\n",
       "<title>140381581452456-&gt;140381581452624</title>\n",
       "<path d=\"M170.5,-365.4551C170.5,-357.3828 170.5,-347.6764 170.5,-338.6817\" fill=\"none\" stroke=\"#000000\"/>\n",
       "<polygon fill=\"#000000\" points=\"174.0001,-338.5903 170.5,-328.5904 167.0001,-338.5904 174.0001,-338.5903\" stroke=\"#000000\"/>\n",
       "</g>\n",
       "<!-- 140381581453072 -->\n",
       "<g class=\"node\" id=\"node8\">\n",
       "<title>140381581453072</title>\n",
       "<polygon fill=\"none\" points=\"82,-219.5 82,-255.5 259,-255.5 259,-219.5 82,-219.5\" stroke=\"#000000\"/>\n",
       "<text fill=\"#000000\" font-family=\"Times,serif\" font-size=\"14.00\" text-anchor=\"middle\" x=\"170.5\" y=\"-233.8\">attention_weights: Activation</text>\n",
       "</g>\n",
       "<!-- 140381581452624&#45;&gt;140381581453072 -->\n",
       "<g class=\"edge\" id=\"edge52\">\n",
       "<title>140381581452624-&gt;140381581453072</title>\n",
       "<path d=\"M170.5,-292.4551C170.5,-284.3828 170.5,-274.6764 170.5,-265.6817\" fill=\"none\" stroke=\"#000000\"/>\n",
       "<polygon fill=\"#000000\" points=\"174.0001,-265.5903 170.5,-255.5904 167.0001,-265.5904 174.0001,-265.5903\" stroke=\"#000000\"/>\n",
       "</g>\n",
       "<!-- 140381581453072&#45;&gt;140381581453408 -->\n",
       "<g class=\"edge\" id=\"edge62\">\n",
       "<title>140381581453072-&gt;140381581453408</title>\n",
       "<path d=\"M186.3202,-219.4551C194.0126,-210.6809 203.3978,-199.9759 211.8344,-190.353\" fill=\"none\" stroke=\"#000000\"/>\n",
       "<polygon fill=\"#000000\" points=\"214.6794,-192.4171 218.64,-182.5904 209.4158,-187.8024 214.6794,-192.4171\" stroke=\"#000000\"/>\n",
       "</g>\n",
       "<!-- 140381581453408&#45;&gt;140381581453856 -->\n",
       "<g class=\"edge\" id=\"edge82\">\n",
       "<title>140381581453408-&gt;140381581453856</title>\n",
       "<path d=\"M234.5,-146.4551C234.5,-138.3828 234.5,-128.6764 234.5,-119.6817\" fill=\"none\" stroke=\"#000000\"/>\n",
       "<polygon fill=\"#000000\" points=\"238.0001,-119.5903 234.5,-109.5904 231.0001,-119.5904 238.0001,-119.5903\" stroke=\"#000000\"/>\n",
       "</g>\n",
       "<!-- 140381581498968 -->\n",
       "<g class=\"node\" id=\"node10\">\n",
       "<title>140381581498968</title>\n",
       "<polygon fill=\"none\" points=\"290,-146.5 290,-182.5 387,-182.5 387,-146.5 290,-146.5\" stroke=\"#000000\"/>\n",
       "<text fill=\"#000000\" font-family=\"Times,serif\" font-size=\"14.00\" text-anchor=\"middle\" x=\"338.5\" y=\"-160.8\">c0: InputLayer</text>\n",
       "</g>\n",
       "<!-- 140381581498968&#45;&gt;140381581453856 -->\n",
       "<g class=\"edge\" id=\"edge84\">\n",
       "<title>140381581498968-&gt;140381581453856</title>\n",
       "<path d=\"M312.7921,-146.4551C299.417,-137.0667 282.8925,-125.4678 268.4768,-115.3491\" fill=\"none\" stroke=\"#000000\"/>\n",
       "<polygon fill=\"#000000\" points=\"270.4683,-112.4709 260.2726,-109.5904 266.4467,-118.2003 270.4683,-112.4709\" stroke=\"#000000\"/>\n",
       "</g>\n",
       "<!-- 140381581453856&#45;&gt;140381581452064 -->\n",
       "<g class=\"edge\" id=\"edge3\">\n",
       "<title>140381581453856-&gt;140381581452064</title>\n",
       "<path d=\"M199.3989,-73.4551C180.4539,-63.7157 156.8814,-51.5975 136.6965,-41.2207\" fill=\"none\" stroke=\"#000000\"/>\n",
       "<polygon fill=\"#000000\" points=\"138.1833,-38.0497 127.6895,-36.5904 134.9828,-44.2752 138.1833,-38.0497\" stroke=\"#000000\"/>\n",
       "</g>\n",
       "<!-- 140381581453856&#45;&gt;140381581453856 -->\n",
       "<g class=\"edge\" id=\"edge86\">\n",
       "<title>140381581453856-&gt;140381581453856</title>\n",
       "<path d=\"M283.5804,-92.9516C293.9858,-92.8042 301.5,-92.3203 301.5,-91.5 301.5,-90.9873 298.5648,-90.606 293.823,-90.3562\" fill=\"none\" stroke=\"#000000\"/>\n",
       "<polygon fill=\"#000000\" points=\"293.6811,-86.8504 283.5804,-90.0484 293.4708,-93.8473 293.6811,-86.8504\" stroke=\"#000000\"/>\n",
       "</g>\n",
       "<!-- 140381581453856&#45;&gt;140381581453856 -->\n",
       "<g class=\"edge\" id=\"edge87\">\n",
       "<title>140381581453856-&gt;140381581453856</title>\n",
       "<path d=\"M283.8408,-94.4852C303.2711,-94.6357 319.5,-93.6406 319.5,-91.5 319.5,-89.744 308.5794,-88.7589 293.9293,-88.5447\" fill=\"none\" stroke=\"#000000\"/>\n",
       "<polygon fill=\"#000000\" points=\"293.8512,-85.0445 283.8408,-88.5148 293.8304,-92.0445 293.8512,-85.0445\" stroke=\"#000000\"/>\n",
       "</g>\n",
       "<!-- 140381581453856&#45;&gt;140381581453856 -->\n",
       "<g class=\"edge\" id=\"edge89\">\n",
       "<title>140381581453856-&gt;140381581453856</title>\n",
       "<path d=\"M283.5123,-95.761C311.5088,-96.6117 337.5,-95.1914 337.5,-91.5 337.5,-88.2556 317.4224,-86.7656 293.5521,-87.0299\" fill=\"none\" stroke=\"#000000\"/>\n",
       "<polygon fill=\"#000000\" points=\"293.4372,-83.5314 283.5123,-87.239 293.5831,-90.5299 293.4372,-83.5314\" stroke=\"#000000\"/>\n",
       "</g>\n",
       "<!-- 140381581453856&#45;&gt;140381581453856 -->\n",
       "<g class=\"edge\" id=\"edge90\">\n",
       "<title>140381581453856-&gt;140381581453856</title>\n",
       "<path d=\"M283.5862,-96.8229C319.508,-98.618 355.5,-96.8438 355.5,-91.5 355.5,-86.6572 325.9401,-84.746 293.6614,-85.7664\" fill=\"none\" stroke=\"#000000\"/>\n",
       "<polygon fill=\"#000000\" points=\"293.4353,-82.2726 283.5862,-86.1771 293.7205,-89.2668 293.4353,-82.2726\" stroke=\"#000000\"/>\n",
       "</g>\n",
       "<!-- 140381581453856&#45;&gt;140381581453856 -->\n",
       "<g class=\"edge\" id=\"edge92\">\n",
       "<title>140381581453856-&gt;140381581453856</title>\n",
       "<path d=\"M283.6579,-97.7141C327.1766,-100.6417 373.5,-98.5703 373.5,-91.5 373.5,-84.9821 334.1319,-82.7125 293.8855,-84.6912\" fill=\"none\" stroke=\"#000000\"/>\n",
       "<polygon fill=\"#000000\" points=\"293.4378,-81.2113 283.6579,-85.2859 293.8442,-88.1995 293.4378,-81.2113\" stroke=\"#000000\"/>\n",
       "</g>\n",
       "<!-- 140381581453856&#45;&gt;140381581453856 -->\n",
       "<g class=\"edge\" id=\"edge93\">\n",
       "<title>140381581453856-&gt;140381581453856</title>\n",
       "<path d=\"M283.5293,-98.456C334.4505,-102.678 391.5,-100.3594 391.5,-91.5 391.5,-83.2289 341.7758,-80.6588 293.7363,-83.7894\" fill=\"none\" stroke=\"#000000\"/>\n",
       "<polygon fill=\"#000000\" points=\"293.244,-80.3162 283.5293,-84.544 293.7602,-87.2971 293.244,-80.3162\" stroke=\"#000000\"/>\n",
       "</g>\n",
       "<!-- 140381581453856&#45;&gt;140381581453856 -->\n",
       "<g class=\"edge\" id=\"edge95\">\n",
       "<title>140381581453856-&gt;140381581453856</title>\n",
       "<path d=\"M283.7678,-99.1231C341.8082,-104.7051 409.5,-102.1641 409.5,-91.5 409.5,-81.4608 349.5084,-78.6206 294.054,-82.9793\" fill=\"none\" stroke=\"#000000\"/>\n",
       "<polygon fill=\"#000000\" points=\"293.4256,-79.5208 283.7678,-83.8769 294.0342,-86.4943 293.4256,-79.5208\" stroke=\"#000000\"/>\n",
       "</g>\n",
       "<!-- 140381581453856&#45;&gt;140381581453856 -->\n",
       "<g class=\"edge\" id=\"edge96\">\n",
       "<title>140381581453856-&gt;140381581453856</title>\n",
       "<path d=\"M283.9339,-99.7031C348.9681,-106.7344 427.5,-104 427.5,-91.5 427.5,-79.6348 356.7415,-76.5685 293.9338,-82.3013\" fill=\"none\" stroke=\"#000000\"/>\n",
       "<polygon fill=\"#000000\" points=\"293.5379,-78.8233 283.9339,-83.2969 294.2315,-85.7888 293.5379,-78.8233\" stroke=\"#000000\"/>\n",
       "</g>\n",
       "<!-- 140381581453856&#45;&gt;140381581453856 -->\n",
       "<g class=\"edge\" id=\"edge98\">\n",
       "<title>140381581453856-&gt;140381581453856</title>\n",
       "<path d=\"M283.5048,-100.1463C355.5173,-108.7786 445.5,-105.8965 445.5,-91.5 445.5,-77.7784 363.7554,-74.5169 293.7389,-81.7157\" fill=\"none\" stroke=\"#000000\"/>\n",
       "<polygon fill=\"#000000\" points=\"293.0567,-78.2699 283.5048,-82.8537 293.8303,-85.227 293.0567,-78.2699\" stroke=\"#000000\"/>\n",
       "</g>\n",
       "<!-- 140381581453856&#45;&gt;140381581453856 -->\n",
       "<g class=\"edge\" id=\"edge99\">\n",
       "<title>140381581453856-&gt;140381581453856</title>\n",
       "<path d=\"M283.6949,-100.6039C362.4737,-110.8042 463.5,-107.7695 463.5,-91.5 463.5,-75.9296 370.9692,-72.481 293.9635,-81.1545\" fill=\"none\" stroke=\"#000000\"/>\n",
       "<polygon fill=\"#000000\" points=\"293.2025,-77.7209 283.6949,-82.3961 294.0428,-84.6703 293.2025,-77.7209\" stroke=\"#000000\"/>\n",
       "</g>\n",
       "<!-- 140381581453856&#45;&gt;140381581453856 -->\n",
       "<g class=\"edge\" id=\"edge101\">\n",
       "<title>140381581453856-&gt;140381581453856</title>\n",
       "<path d=\"M283.6016,-100.9784C369.1051,-112.8352 481.5,-109.6758 481.5,-91.5 481.5,-74.0342 377.7145,-70.4345 293.7363,-80.7009\" fill=\"none\" stroke=\"#000000\"/>\n",
       "<polygon fill=\"#000000\" points=\"293.0654,-77.2586 283.6016,-82.0216 293.9701,-84.1999 293.0654,-77.2586\" stroke=\"#000000\"/>\n",
       "</g>\n",
       "<!-- 140381581453856&#45;&gt;140381581453856 -->\n",
       "<g class=\"edge\" id=\"edge102\">\n",
       "<title>140381581453856-&gt;140381581453856</title>\n",
       "<path d=\"M283.6165,-101.3272C375.7582,-114.8617 499.5,-111.5859 499.5,-91.5 499.5,-72.1398 384.5389,-68.397 293.721,-80.2715\" fill=\"none\" stroke=\"#000000\"/>\n",
       "<polygon fill=\"#000000\" points=\"293.0409,-76.8322 283.6165,-81.6728 294.0025,-83.7659 293.0409,-76.8322\" stroke=\"#000000\"/>\n",
       "</g>\n",
       "<!-- 140381581453856&#45;&gt;140381581453856 -->\n",
       "<g class=\"edge\" id=\"edge104\">\n",
       "<title>140381581453856-&gt;140381581453856</title>\n",
       "<path d=\"M283.5222,-101.6254C382.2512,-116.8888 517.5,-113.5137 517.5,-91.5 517.5,-70.2173 391.0834,-66.3559 293.471,-79.9158\" fill=\"none\" stroke=\"#000000\"/>\n",
       "<polygon fill=\"#000000\" points=\"292.9086,-76.4608 283.5222,-81.3746 293.9242,-83.3867 292.9086,-76.4608\" stroke=\"#000000\"/>\n",
       "</g>\n",
       "<!-- 140381581453856&#45;&gt;140381581453856 -->\n",
       "<g class=\"edge\" id=\"edge105\">\n",
       "<title>140381581453856-&gt;140381581453856</title>\n",
       "<path d=\"M283.7435,-101.9442C388.9818,-118.9072 535.5,-115.4258 535.5,-91.5 535.5,-68.3219 397.9961,-64.3304 293.7248,-79.5254\" fill=\"none\" stroke=\"#000000\"/>\n",
       "<polygon fill=\"#000000\" points=\"293.0975,-76.0806 283.7435,-81.0558 294.1584,-82.9998 293.0975,-76.0806\" stroke=\"#000000\"/>\n",
       "</g>\n",
       "<!-- 140381581453856&#45;&gt;140381581453856 -->\n",
       "<g class=\"edge\" id=\"edge107\">\n",
       "<title>140381581453856-&gt;140381581453856</title>\n",
       "<path d=\"M283.6402,-102.1862C395.3676,-120.9312 553.5,-117.3691 553.5,-91.5 553.5,-66.3887 404.4974,-62.2967 293.5744,-79.2237\" fill=\"none\" stroke=\"#000000\"/>\n",
       "<polygon fill=\"#000000\" points=\"292.9613,-75.7772 283.6402,-80.8138 294.0677,-82.6892 292.9613,-75.7772\" stroke=\"#000000\"/>\n",
       "</g>\n",
       "<!-- 140381581453856&#45;&gt;140381581453856 -->\n",
       "<g class=\"edge\" id=\"edge108\">\n",
       "<title>140381581453856-&gt;140381581453856</title>\n",
       "<path d=\"M283.6153,-102.4186C401.7856,-122.952 571.5,-119.3125 571.5,-91.5 571.5,-64.4752 411.2622,-60.2735 293.7741,-78.895\" fill=\"none\" stroke=\"#000000\"/>\n",
       "<polygon fill=\"#000000\" points=\"292.9071,-75.491 283.6153,-80.5814 294.0535,-82.3965 292.9071,-75.491\" stroke=\"#000000\"/>\n",
       "</g>\n",
       "<!-- 140381581453856&#45;&gt;140381581453856 -->\n",
       "<g class=\"edge\" id=\"edge110\">\n",
       "<title>140381581453856-&gt;140381581453856</title>\n",
       "<path d=\"M283.7285,-102.6563C408.3021,-124.9688 589.5,-121.25 589.5,-91.5 589.5,-62.5344 417.7315,-58.2455 293.6962,-78.6331\" fill=\"none\" stroke=\"#000000\"/>\n",
       "<polygon fill=\"#000000\" points=\"292.9924,-75.2026 283.7285,-80.3438 294.1765,-82.1018 292.9924,-75.2026\" stroke=\"#000000\"/>\n",
       "</g>\n",
       "<!-- 140381581453856&#45;&gt;140381581453856 -->\n",
       "<g class=\"edge\" id=\"edge111\">\n",
       "<title>140381581453856-&gt;140381581453856</title>\n",
       "<path d=\"M283.6032,-102.8342C414.5562,-126.989 607.5,-123.2109 607.5,-91.5 607.5,-60.5942 424.2298,-56.2209 293.6939,-78.3799\" fill=\"none\" stroke=\"#000000\"/>\n",
       "<polygon fill=\"#000000\" points=\"292.8402,-74.9765 283.6032,-80.1658 294.0602,-81.8694 292.8402,-74.9765\" stroke=\"#000000\"/>\n",
       "</g>\n",
       "<!-- 140381581453968 -->\n",
       "<g class=\"node\" id=\"node12\">\n",
       "<title>140381581453968</title>\n",
       "<polygon fill=\"none\" points=\"202.5,-.5 202.5,-36.5 304.5,-36.5 304.5,-.5 202.5,-.5\" stroke=\"#000000\"/>\n",
       "<text fill=\"#000000\" font-family=\"Times,serif\" font-size=\"14.00\" text-anchor=\"middle\" x=\"253.5\" y=\"-14.8\">dense_3: Dense</text>\n",
       "</g>\n",
       "<!-- 140381581453856&#45;&gt;140381581453968 -->\n",
       "<g class=\"edge\" id=\"edge112\">\n",
       "<title>140381581453856-&gt;140381581453968</title>\n",
       "<path d=\"M239.1966,-73.4551C241.3205,-65.2951 243.8789,-55.4652 246.2413,-46.3887\" fill=\"none\" stroke=\"#000000\"/>\n",
       "<polygon fill=\"#000000\" points=\"249.6598,-47.1496 248.7916,-36.5904 242.8855,-45.3863 249.6598,-47.1496\" stroke=\"#000000\"/>\n",
       "</g>\n",
       "</g>\n",
       "</svg>"
      ],
      "text/plain": [
       "<IPython.core.display.SVG object>"
      ]
     },
     "execution_count": 11,
     "metadata": {},
     "output_type": "execute_result"
    }
   ],
   "source": [
    "from keras.utils import plot_model\n",
    "from IPython.display import SVG\n",
    "from keras.utils.vis_utils import model_to_dot\n",
    "\n",
    "plot_model(model, to_file='model.png')\n",
    "SVG(model_to_dot(model).create(prog='dot', format='svg'))"
   ]
  },
  {
   "cell_type": "markdown",
   "metadata": {},
   "source": [
    "Let's get a summary of the model to check if it matches the expected output."
   ]
  },
  {
   "cell_type": "code",
   "execution_count": 12,
   "metadata": {
    "ExecuteTime": {
     "end_time": "2018-12-30T04:24:47.620723Z",
     "start_time": "2018-12-30T04:24:47.606740Z"
    }
   },
   "outputs": [
    {
     "name": "stdout",
     "output_type": "stream",
     "text": [
      "__________________________________________________________________________________________________\n",
      "Layer (type)                    Output Shape         Param #     Connected to                     \n",
      "==================================================================================================\n",
      "input_1 (InputLayer)            (None, 30, 37)       0                                            \n",
      "__________________________________________________________________________________________________\n",
      "s0 (InputLayer)                 (None, 64)           0                                            \n",
      "__________________________________________________________________________________________________\n",
      "bidirectional_1 (Bidirectional) (None, 30, 64)       17920       input_1[0][0]                    \n",
      "__________________________________________________________________________________________________\n",
      "repeat_vector_1 (RepeatVector)  (None, 30, 64)       0           s0[0][0]                         \n",
      "                                                                 lstm_1[0][0]                     \n",
      "                                                                 lstm_1[1][0]                     \n",
      "                                                                 lstm_1[2][0]                     \n",
      "                                                                 lstm_1[3][0]                     \n",
      "                                                                 lstm_1[4][0]                     \n",
      "                                                                 lstm_1[5][0]                     \n",
      "                                                                 lstm_1[6][0]                     \n",
      "                                                                 lstm_1[7][0]                     \n",
      "                                                                 lstm_1[8][0]                     \n",
      "__________________________________________________________________________________________________\n",
      "concatenate_1 (Concatenate)     (None, 30, 128)      0           bidirectional_1[0][0]            \n",
      "                                                                 repeat_vector_1[0][0]            \n",
      "                                                                 bidirectional_1[0][0]            \n",
      "                                                                 repeat_vector_1[1][0]            \n",
      "                                                                 bidirectional_1[0][0]            \n",
      "                                                                 repeat_vector_1[2][0]            \n",
      "                                                                 bidirectional_1[0][0]            \n",
      "                                                                 repeat_vector_1[3][0]            \n",
      "                                                                 bidirectional_1[0][0]            \n",
      "                                                                 repeat_vector_1[4][0]            \n",
      "                                                                 bidirectional_1[0][0]            \n",
      "                                                                 repeat_vector_1[5][0]            \n",
      "                                                                 bidirectional_1[0][0]            \n",
      "                                                                 repeat_vector_1[6][0]            \n",
      "                                                                 bidirectional_1[0][0]            \n",
      "                                                                 repeat_vector_1[7][0]            \n",
      "                                                                 bidirectional_1[0][0]            \n",
      "                                                                 repeat_vector_1[8][0]            \n",
      "                                                                 bidirectional_1[0][0]            \n",
      "                                                                 repeat_vector_1[9][0]            \n",
      "__________________________________________________________________________________________________\n",
      "dense_1 (Dense)                 (None, 30, 10)       1290        concatenate_1[0][0]              \n",
      "                                                                 concatenate_1[1][0]              \n",
      "                                                                 concatenate_1[2][0]              \n",
      "                                                                 concatenate_1[3][0]              \n",
      "                                                                 concatenate_1[4][0]              \n",
      "                                                                 concatenate_1[5][0]              \n",
      "                                                                 concatenate_1[6][0]              \n",
      "                                                                 concatenate_1[7][0]              \n",
      "                                                                 concatenate_1[8][0]              \n",
      "                                                                 concatenate_1[9][0]              \n",
      "__________________________________________________________________________________________________\n",
      "dense_2 (Dense)                 (None, 30, 1)        11          dense_1[0][0]                    \n",
      "                                                                 dense_1[1][0]                    \n",
      "                                                                 dense_1[2][0]                    \n",
      "                                                                 dense_1[3][0]                    \n",
      "                                                                 dense_1[4][0]                    \n",
      "                                                                 dense_1[5][0]                    \n",
      "                                                                 dense_1[6][0]                    \n",
      "                                                                 dense_1[7][0]                    \n",
      "                                                                 dense_1[8][0]                    \n",
      "                                                                 dense_1[9][0]                    \n",
      "__________________________________________________________________________________________________\n",
      "attention_weights (Activation)  (None, 30, 1)        0           dense_2[0][0]                    \n",
      "                                                                 dense_2[1][0]                    \n",
      "                                                                 dense_2[2][0]                    \n",
      "                                                                 dense_2[3][0]                    \n",
      "                                                                 dense_2[4][0]                    \n",
      "                                                                 dense_2[5][0]                    \n",
      "                                                                 dense_2[6][0]                    \n",
      "                                                                 dense_2[7][0]                    \n",
      "                                                                 dense_2[8][0]                    \n",
      "                                                                 dense_2[9][0]                    \n",
      "__________________________________________________________________________________________________\n",
      "dot_1 (Dot)                     (None, 1, 64)        0           attention_weights[0][0]          \n",
      "                                                                 bidirectional_1[0][0]            \n",
      "                                                                 attention_weights[1][0]          \n",
      "                                                                 bidirectional_1[0][0]            \n",
      "                                                                 attention_weights[2][0]          \n",
      "                                                                 bidirectional_1[0][0]            \n",
      "                                                                 attention_weights[3][0]          \n",
      "                                                                 bidirectional_1[0][0]            \n",
      "                                                                 attention_weights[4][0]          \n",
      "                                                                 bidirectional_1[0][0]            \n",
      "                                                                 attention_weights[5][0]          \n",
      "                                                                 bidirectional_1[0][0]            \n",
      "                                                                 attention_weights[6][0]          \n",
      "                                                                 bidirectional_1[0][0]            \n",
      "                                                                 attention_weights[7][0]          \n",
      "                                                                 bidirectional_1[0][0]            \n",
      "                                                                 attention_weights[8][0]          \n",
      "                                                                 bidirectional_1[0][0]            \n",
      "                                                                 attention_weights[9][0]          \n",
      "                                                                 bidirectional_1[0][0]            \n",
      "__________________________________________________________________________________________________\n",
      "c0 (InputLayer)                 (None, 64)           0                                            \n",
      "__________________________________________________________________________________________________\n",
      "lstm_1 (LSTM)                   [(None, 64), (None,  33024       dot_1[0][0]                      \n",
      "                                                                 s0[0][0]                         \n",
      "                                                                 c0[0][0]                         \n",
      "                                                                 dot_1[1][0]                      \n",
      "                                                                 lstm_1[0][0]                     \n",
      "                                                                 lstm_1[0][2]                     \n",
      "                                                                 dot_1[2][0]                      \n",
      "                                                                 lstm_1[1][0]                     \n",
      "                                                                 lstm_1[1][2]                     \n",
      "                                                                 dot_1[3][0]                      \n",
      "                                                                 lstm_1[2][0]                     \n",
      "                                                                 lstm_1[2][2]                     \n",
      "                                                                 dot_1[4][0]                      \n",
      "                                                                 lstm_1[3][0]                     \n",
      "                                                                 lstm_1[3][2]                     \n",
      "                                                                 dot_1[5][0]                      \n",
      "                                                                 lstm_1[4][0]                     \n",
      "                                                                 lstm_1[4][2]                     \n",
      "                                                                 dot_1[6][0]                      \n",
      "                                                                 lstm_1[5][0]                     \n",
      "                                                                 lstm_1[5][2]                     \n",
      "                                                                 dot_1[7][0]                      \n",
      "                                                                 lstm_1[6][0]                     \n",
      "                                                                 lstm_1[6][2]                     \n",
      "                                                                 dot_1[8][0]                      \n",
      "                                                                 lstm_1[7][0]                     \n",
      "                                                                 lstm_1[7][2]                     \n",
      "                                                                 dot_1[9][0]                      \n",
      "                                                                 lstm_1[8][0]                     \n",
      "                                                                 lstm_1[8][2]                     \n",
      "__________________________________________________________________________________________________\n",
      "dense_3 (Dense)                 (None, 11)           715         lstm_1[0][0]                     \n",
      "                                                                 lstm_1[1][0]                     \n",
      "                                                                 lstm_1[2][0]                     \n",
      "                                                                 lstm_1[3][0]                     \n",
      "                                                                 lstm_1[4][0]                     \n",
      "                                                                 lstm_1[5][0]                     \n",
      "                                                                 lstm_1[6][0]                     \n",
      "                                                                 lstm_1[7][0]                     \n",
      "                                                                 lstm_1[8][0]                     \n",
      "                                                                 lstm_1[9][0]                     \n",
      "==================================================================================================\n",
      "Total params: 52,960\n",
      "Trainable params: 52,960\n",
      "Non-trainable params: 0\n",
      "__________________________________________________________________________________________________\n"
     ]
    }
   ],
   "source": [
    "model.summary()"
   ]
  },
  {
   "cell_type": "markdown",
   "metadata": {},
   "source": [
    "**Expected Output**:\n",
    "\n",
    "Here is the summary you should see\n",
    "<table>\n",
    "    <tr>\n",
    "        <td>\n",
    "            **Total params:**\n",
    "        </td>\n",
    "        <td>\n",
    "         52,960\n",
    "        </td>\n",
    "    </tr>\n",
    "        <tr>\n",
    "        <td>\n",
    "            **Trainable params:**\n",
    "        </td>\n",
    "        <td>\n",
    "         52,960\n",
    "        </td>\n",
    "    </tr>\n",
    "            <tr>\n",
    "        <td>\n",
    "            **Non-trainable params:**\n",
    "        </td>\n",
    "        <td>\n",
    "         0\n",
    "        </td>\n",
    "    </tr>\n",
    "                    <tr>\n",
    "        <td>\n",
    "            **bidirectional_1's output shape **\n",
    "        </td>\n",
    "        <td>\n",
    "         (None, 30, 64)  \n",
    "        </td>\n",
    "    </tr>\n",
    "    <tr>\n",
    "        <td>\n",
    "            **repeat_vector_1's output shape **\n",
    "        </td>\n",
    "        <td>\n",
    "         (None, 30, 64) \n",
    "        </td>\n",
    "    </tr>\n",
    "                <tr>\n",
    "        <td>\n",
    "            **concatenate_1's output shape **\n",
    "        </td>\n",
    "        <td>\n",
    "         (None, 30, 128) \n",
    "        </td>\n",
    "    </tr>\n",
    "            <tr>\n",
    "        <td>\n",
    "            **attention_weights's output shape **\n",
    "        </td>\n",
    "        <td>\n",
    "         (None, 30, 1)  \n",
    "        </td>\n",
    "    </tr>\n",
    "        <tr>\n",
    "        <td>\n",
    "            **dot_1's output shape **\n",
    "        </td>\n",
    "        <td>\n",
    "         (None, 1, 64)\n",
    "        </td>\n",
    "    </tr>\n",
    "           <tr>\n",
    "        <td>\n",
    "            **dense_3's output shape **\n",
    "        </td>\n",
    "        <td>\n",
    "         (None, 11) \n",
    "        </td>\n",
    "    </tr>\n",
    "</table>\n"
   ]
  },
  {
   "cell_type": "markdown",
   "metadata": {},
   "source": [
    "As usual, after creating your model in Keras, you need to compile it and define what loss, optimizer and metrics your are want to use. Compile your model using `categorical_crossentropy` loss, a custom [Adam](https://keras.io/optimizers/#adam) [optimizer](https://keras.io/optimizers/#usage-of-optimizers) (`learning rate = 0.005`, $\\beta_1 = 0.9$, $\\beta_2 = 0.999$, `decay = 0.01`)  and `['accuracy']` metrics:"
   ]
  },
  {
   "cell_type": "code",
   "execution_count": 13,
   "metadata": {
    "ExecuteTime": {
     "end_time": "2018-12-30T04:24:47.873193Z",
     "start_time": "2018-12-30T04:24:47.623305Z"
    }
   },
   "outputs": [],
   "source": [
    "### START CODE HERE ### (≈2 lines)\n",
    "opt = model.compile(optimizer=Adam(lr=0.005, beta_1=0.9, beta_2=0.999, decay=0.01),\\\n",
    "                    metrics=['accuracy'], loss='categorical_crossentropy')\n",
    "### END CODE HERE ###"
   ]
  },
  {
   "cell_type": "markdown",
   "metadata": {},
   "source": [
    "The last step is to define all your inputs and outputs to fit the model:\n",
    "- You already have X of shape $(m = 10000, T_x = 30)$ containing the training examples.\n",
    "- You need to create `s0` and `c0` to initialize your `post_activation_LSTM_cell` with 0s.\n",
    "- Given the `model()` you coded, you need the \"outputs\" to be a list of 11 elements of shape (m, T_y). So that: `outputs[i][0], ..., outputs[i][Ty]` represent the true labels (characters) corresponding to the $i^{th}$ training example (`X[i]`). More generally, `outputs[i][j]` is the true label of the $j^{th}$ character in the $i^{th}$ training example."
   ]
  },
  {
   "cell_type": "code",
   "execution_count": 14,
   "metadata": {
    "ExecuteTime": {
     "end_time": "2018-12-30T04:24:47.880381Z",
     "start_time": "2018-12-30T04:24:47.874694Z"
    }
   },
   "outputs": [],
   "source": [
    "s0 = np.zeros((m, n_s))\n",
    "c0 = np.zeros((m, n_s))\n",
    "outputs = list(Yoh.swapaxes(0,1))"
   ]
  },
  {
   "cell_type": "markdown",
   "metadata": {},
   "source": [
    "Let's now fit the model and run it for one epoch."
   ]
  },
  {
   "cell_type": "code",
   "execution_count": 15,
   "metadata": {
    "ExecuteTime": {
     "end_time": "2018-12-30T04:26:08.677847Z",
     "start_time": "2018-12-30T04:24:47.881837Z"
    }
   },
   "outputs": [
    {
     "name": "stdout",
     "output_type": "stream",
     "text": [
      "Epoch 1/10\n",
      "10000/10000 [==============================] - 15s 2ms/step - loss: 16.2890 - dense_3_loss: 2.6239 - dense_3_acc: 0.5278 - dense_3_acc_1: 0.6964 - dense_3_acc_2: 0.3279 - dense_3_acc_3: 0.0781 - dense_3_acc_4: 0.8850 - dense_3_acc_5: 0.4199 - dense_3_acc_6: 0.0619 - dense_3_acc_7: 0.9384 - dense_3_acc_8: 0.2178 - dense_3_acc_9: 0.0959\n",
      "Epoch 2/10\n",
      "10000/10000 [==============================] - 6s 606us/step - loss: 9.4327 - dense_3_loss: 2.2447 - dense_3_acc: 0.9630 - dense_3_acc_1: 0.9665 - dense_3_acc_2: 0.5762 - dense_3_acc_3: 0.1948 - dense_3_acc_4: 1.0000 - dense_3_acc_5: 0.8176 - dense_3_acc_6: 0.2751 - dense_3_acc_7: 1.0000 - dense_3_acc_8: 0.4574 - dense_3_acc_9: 0.1683\n",
      "Epoch 3/10\n",
      "10000/10000 [==============================] - 6s 649us/step - loss: 8.0581 - dense_3_loss: 2.1528 - dense_3_acc: 0.9714 - dense_3_acc_1: 0.9736 - dense_3_acc_2: 0.7277 - dense_3_acc_3: 0.3341 - dense_3_acc_4: 0.9999 - dense_3_acc_5: 0.9206 - dense_3_acc_6: 0.3744 - dense_3_acc_7: 1.0000 - dense_3_acc_8: 0.5159 - dense_3_acc_9: 0.2041\n",
      "Epoch 4/10\n",
      "10000/10000 [==============================] - 6s 623us/step - loss: 6.9026 - dense_3_loss: 2.0522 - dense_3_acc: 0.9739 - dense_3_acc_1: 0.9778 - dense_3_acc_2: 0.8148 - dense_3_acc_3: 0.4871 - dense_3_acc_4: 1.0000 - dense_3_acc_5: 0.9527 - dense_3_acc_6: 0.4771 - dense_3_acc_7: 1.0000 - dense_3_acc_8: 0.5761 - dense_3_acc_9: 0.2483\n",
      "Epoch 5/10\n",
      "10000/10000 [==============================] - 6s 648us/step - loss: 6.0326 - dense_3_loss: 1.9545 - dense_3_acc: 0.9731 - dense_3_acc_1: 0.9780 - dense_3_acc_2: 0.8549 - dense_3_acc_3: 0.6335 - dense_3_acc_4: 1.0000 - dense_3_acc_5: 0.9611 - dense_3_acc_6: 0.5441 - dense_3_acc_7: 1.0000 - dense_3_acc_8: 0.6239 - dense_3_acc_9: 0.2808\n",
      "Epoch 6/10\n",
      "10000/10000 [==============================] - 6s 627us/step - loss: 5.3989 - dense_3_loss: 1.8543 - dense_3_acc: 0.9761 - dense_3_acc_1: 0.9802 - dense_3_acc_2: 0.8752 - dense_3_acc_3: 0.7307 - dense_3_acc_4: 1.0000 - dense_3_acc_5: 0.9699 - dense_3_acc_6: 0.5866 - dense_3_acc_7: 1.0000 - dense_3_acc_8: 0.6691 - dense_3_acc_9: 0.3121\n",
      "Epoch 7/10\n",
      "10000/10000 [==============================] - 6s 649us/step - loss: 4.9016 - dense_3_loss: 1.7425 - dense_3_acc: 0.9788 - dense_3_acc_1: 0.9817 - dense_3_acc_2: 0.8818 - dense_3_acc_3: 0.7928 - dense_3_acc_4: 1.0000 - dense_3_acc_5: 0.9720 - dense_3_acc_6: 0.6373 - dense_3_acc_7: 0.9999 - dense_3_acc_8: 0.6983 - dense_3_acc_9: 0.3543\n",
      "Epoch 8/10\n",
      "10000/10000 [==============================] - 7s 669us/step - loss: 4.4856 - dense_3_loss: 1.6202 - dense_3_acc: 0.9803 - dense_3_acc_1: 0.9833 - dense_3_acc_2: 0.8883 - dense_3_acc_3: 0.8360 - dense_3_acc_4: 1.0000 - dense_3_acc_5: 0.9735 - dense_3_acc_6: 0.6669 - dense_3_acc_7: 1.0000 - dense_3_acc_8: 0.7298 - dense_3_acc_9: 0.3992\n",
      "Epoch 9/10\n",
      "10000/10000 [==============================] - 6s 643us/step - loss: 4.1107 - dense_3_loss: 1.4901 - dense_3_acc: 0.9818 - dense_3_acc_1: 0.9843 - dense_3_acc_2: 0.8951 - dense_3_acc_3: 0.8613 - dense_3_acc_4: 1.0000 - dense_3_acc_5: 0.9731 - dense_3_acc_6: 0.6980 - dense_3_acc_7: 1.0000 - dense_3_acc_8: 0.7535 - dense_3_acc_9: 0.4522\n",
      "Epoch 10/10\n",
      "10000/10000 [==============================] - 6s 636us/step - loss: 3.7722 - dense_3_loss: 1.3616 - dense_3_acc: 0.9832 - dense_3_acc_1: 0.9852 - dense_3_acc_2: 0.8996 - dense_3_acc_3: 0.8773 - dense_3_acc_4: 0.9999 - dense_3_acc_5: 0.9765 - dense_3_acc_6: 0.7311 - dense_3_acc_7: 1.0000 - dense_3_acc_8: 0.7749 - dense_3_acc_9: 0.5075\n"
     ]
    },
    {
     "data": {
      "text/plain": [
       "<keras.callbacks.History at 0x7fad6bdc56a0>"
      ]
     },
     "execution_count": 15,
     "metadata": {},
     "output_type": "execute_result"
    }
   ],
   "source": [
    "model.fit([Xoh, s0, c0], outputs, epochs=10, batch_size=100)"
   ]
  },
  {
   "cell_type": "markdown",
   "metadata": {},
   "source": [
    "While training you can see the loss as well as the accuracy on each of the 10 positions of the output. The table below gives you an example of what the accuracies could be if the batch had 2 examples: \n",
    "\n",
    "<img src=\"images/table.png\" style=\"width:700;height:200px;\"> <br>\n",
    "<caption><center>Thus, `dense_2_acc_8: 0.89` means that you are predicting the 7th character of the output correctly 89% of the time in the current batch of data. </center></caption>\n",
    "\n",
    "\n",
    "We have run this model for longer, and saved the weights. Run the next cell to load our weights. (By training a model for several minutes, you should be able to obtain a model of similar accuracy, but loading our model will save you time.) "
   ]
  },
  {
   "cell_type": "code",
   "execution_count": 16,
   "metadata": {
    "ExecuteTime": {
     "end_time": "2018-12-30T04:26:09.188889Z",
     "start_time": "2018-12-30T04:26:08.679572Z"
    }
   },
   "outputs": [],
   "source": [
    "model.load_weights('models/model.h5')"
   ]
  },
  {
   "cell_type": "markdown",
   "metadata": {},
   "source": [
    "You can now see the results on new examples."
   ]
  },
  {
   "cell_type": "code",
   "execution_count": 17,
   "metadata": {
    "ExecuteTime": {
     "end_time": "2018-12-30T04:26:10.690322Z",
     "start_time": "2018-12-30T04:26:09.190828Z"
    }
   },
   "outputs": [
    {
     "name": "stdout",
     "output_type": "stream",
     "text": [
      "source: 3 May 1979\n",
      "output: 1979-05-03\n",
      "source: 5 April 09\n",
      "output: 2009-05-05\n",
      "source: 21th of August 2016\n",
      "output: 2016-08-21\n",
      "source: Tue 10 Jul 2007\n",
      "output: 2007-07-10\n",
      "source: Saturday May 9 2018\n",
      "output: 2018-05-09\n",
      "source: March 3 2001\n",
      "output: 2001-03-03\n",
      "source: March 3rd 2001\n",
      "output: 2001-03-03\n",
      "source: 1 March 2001\n",
      "output: 2001-03-01\n"
     ]
    }
   ],
   "source": [
    "EXAMPLES = ['3 May 1979', '5 April 09', '21th of August 2016', 'Tue 10 Jul 2007', 'Saturday May 9 2018', 'March 3 2001', 'March 3rd 2001', '1 March 2001']\n",
    "for example in EXAMPLES:\n",
    "    \n",
    "    source = np.array(string_to_int(example, Tx, human_vocab)).reshape((1, Tx))\n",
    "    source = np.array(list(map(lambda x: to_categorical(x, num_classes=len(human_vocab)), source)))\n",
    "    prediction = model.predict([source, s0, c0])\n",
    "    prediction = np.argmax(prediction, axis = -1)\n",
    "    output = [inv_machine_vocab[int(i)] for i in prediction]\n",
    "    \n",
    "    print(\"source:\", example)\n",
    "    print(\"output:\", ''.join(output))"
   ]
  },
  {
   "cell_type": "markdown",
   "metadata": {},
   "source": [
    "You can also change these examples to test with your own examples. The next part will give you a better sense on what the attention mechanism is doing--i.e., what part of the input the network is paying attention to when generating a particular output character. "
   ]
  },
  {
   "cell_type": "markdown",
   "metadata": {},
   "source": [
    "## 3 - Visualizing Attention (Optional / Ungraded)\n",
    "\n",
    "Since the problem has a fixed output length of 10, it is also possible to carry out this task using 10 different softmax units to generate the 10 characters of the output. But one advantage of the attention model is that each part of the output (say the month) knows it needs to depend only on a small part of the input (the characters in the input giving the month). We can  visualize what part of the output is looking at what part of the input.\n",
    "\n",
    "Consider the task of translating \"Saturday 9 May 2018\" to \"2018-05-09\". If we visualize the computed $\\alpha^{\\langle t, t' \\rangle}$ we get this: \n",
    "\n",
    "<img src=\"images/date_attention.png\" style=\"width:600;height:300px;\"> <br>\n",
    "<caption><center> **Figure 8**: Full Attention Map</center></caption>\n",
    "\n",
    "Notice how the output ignores the \"Saturday\" portion of the input. None of the output timesteps are paying much attention to that portion of the input. We see also that 9 has been translated as 09 and May has been correctly translated into 05, with the output paying attention to the parts of the input it needs to to make the translation. The year mostly requires it to pay attention to the input's \"18\" in order to generate \"2018.\" \n",
    "\n"
   ]
  },
  {
   "cell_type": "markdown",
   "metadata": {},
   "source": [
    "### 3.1 - Getting the activations from the network\n",
    "\n",
    "Lets now visualize the attention values in your network. We'll propagate an example through the network, then visualize the values of $\\alpha^{\\langle t, t' \\rangle}$. \n",
    "\n",
    "To figure out where the attention values are located, let's start by printing a summary of the model ."
   ]
  },
  {
   "cell_type": "code",
   "execution_count": 18,
   "metadata": {
    "ExecuteTime": {
     "end_time": "2018-12-30T04:26:10.711698Z",
     "start_time": "2018-12-30T04:26:10.700625Z"
    }
   },
   "outputs": [
    {
     "name": "stdout",
     "output_type": "stream",
     "text": [
      "__________________________________________________________________________________________________\n",
      "Layer (type)                    Output Shape         Param #     Connected to                     \n",
      "==================================================================================================\n",
      "input_1 (InputLayer)            (None, 30, 37)       0                                            \n",
      "__________________________________________________________________________________________________\n",
      "s0 (InputLayer)                 (None, 64)           0                                            \n",
      "__________________________________________________________________________________________________\n",
      "bidirectional_1 (Bidirectional) (None, 30, 64)       17920       input_1[0][0]                    \n",
      "__________________________________________________________________________________________________\n",
      "repeat_vector_1 (RepeatVector)  (None, 30, 64)       0           s0[0][0]                         \n",
      "                                                                 lstm_1[0][0]                     \n",
      "                                                                 lstm_1[1][0]                     \n",
      "                                                                 lstm_1[2][0]                     \n",
      "                                                                 lstm_1[3][0]                     \n",
      "                                                                 lstm_1[4][0]                     \n",
      "                                                                 lstm_1[5][0]                     \n",
      "                                                                 lstm_1[6][0]                     \n",
      "                                                                 lstm_1[7][0]                     \n",
      "                                                                 lstm_1[8][0]                     \n",
      "__________________________________________________________________________________________________\n",
      "concatenate_1 (Concatenate)     (None, 30, 128)      0           bidirectional_1[0][0]            \n",
      "                                                                 repeat_vector_1[0][0]            \n",
      "                                                                 bidirectional_1[0][0]            \n",
      "                                                                 repeat_vector_1[1][0]            \n",
      "                                                                 bidirectional_1[0][0]            \n",
      "                                                                 repeat_vector_1[2][0]            \n",
      "                                                                 bidirectional_1[0][0]            \n",
      "                                                                 repeat_vector_1[3][0]            \n",
      "                                                                 bidirectional_1[0][0]            \n",
      "                                                                 repeat_vector_1[4][0]            \n",
      "                                                                 bidirectional_1[0][0]            \n",
      "                                                                 repeat_vector_1[5][0]            \n",
      "                                                                 bidirectional_1[0][0]            \n",
      "                                                                 repeat_vector_1[6][0]            \n",
      "                                                                 bidirectional_1[0][0]            \n",
      "                                                                 repeat_vector_1[7][0]            \n",
      "                                                                 bidirectional_1[0][0]            \n",
      "                                                                 repeat_vector_1[8][0]            \n",
      "                                                                 bidirectional_1[0][0]            \n",
      "                                                                 repeat_vector_1[9][0]            \n",
      "__________________________________________________________________________________________________\n",
      "dense_1 (Dense)                 (None, 30, 10)       1290        concatenate_1[0][0]              \n",
      "                                                                 concatenate_1[1][0]              \n",
      "                                                                 concatenate_1[2][0]              \n",
      "                                                                 concatenate_1[3][0]              \n",
      "                                                                 concatenate_1[4][0]              \n",
      "                                                                 concatenate_1[5][0]              \n",
      "                                                                 concatenate_1[6][0]              \n",
      "                                                                 concatenate_1[7][0]              \n",
      "                                                                 concatenate_1[8][0]              \n",
      "                                                                 concatenate_1[9][0]              \n",
      "__________________________________________________________________________________________________\n",
      "dense_2 (Dense)                 (None, 30, 1)        11          dense_1[0][0]                    \n",
      "                                                                 dense_1[1][0]                    \n",
      "                                                                 dense_1[2][0]                    \n",
      "                                                                 dense_1[3][0]                    \n",
      "                                                                 dense_1[4][0]                    \n",
      "                                                                 dense_1[5][0]                    \n",
      "                                                                 dense_1[6][0]                    \n",
      "                                                                 dense_1[7][0]                    \n",
      "                                                                 dense_1[8][0]                    \n",
      "                                                                 dense_1[9][0]                    \n",
      "__________________________________________________________________________________________________\n",
      "attention_weights (Activation)  (None, 30, 1)        0           dense_2[0][0]                    \n",
      "                                                                 dense_2[1][0]                    \n",
      "                                                                 dense_2[2][0]                    \n",
      "                                                                 dense_2[3][0]                    \n",
      "                                                                 dense_2[4][0]                    \n",
      "                                                                 dense_2[5][0]                    \n",
      "                                                                 dense_2[6][0]                    \n",
      "                                                                 dense_2[7][0]                    \n",
      "                                                                 dense_2[8][0]                    \n",
      "                                                                 dense_2[9][0]                    \n",
      "__________________________________________________________________________________________________\n",
      "dot_1 (Dot)                     (None, 1, 64)        0           attention_weights[0][0]          \n",
      "                                                                 bidirectional_1[0][0]            \n",
      "                                                                 attention_weights[1][0]          \n",
      "                                                                 bidirectional_1[0][0]            \n",
      "                                                                 attention_weights[2][0]          \n",
      "                                                                 bidirectional_1[0][0]            \n",
      "                                                                 attention_weights[3][0]          \n",
      "                                                                 bidirectional_1[0][0]            \n",
      "                                                                 attention_weights[4][0]          \n",
      "                                                                 bidirectional_1[0][0]            \n",
      "                                                                 attention_weights[5][0]          \n",
      "                                                                 bidirectional_1[0][0]            \n",
      "                                                                 attention_weights[6][0]          \n",
      "                                                                 bidirectional_1[0][0]            \n",
      "                                                                 attention_weights[7][0]          \n",
      "                                                                 bidirectional_1[0][0]            \n",
      "                                                                 attention_weights[8][0]          \n",
      "                                                                 bidirectional_1[0][0]            \n",
      "                                                                 attention_weights[9][0]          \n",
      "                                                                 bidirectional_1[0][0]            \n",
      "__________________________________________________________________________________________________\n",
      "c0 (InputLayer)                 (None, 64)           0                                            \n",
      "__________________________________________________________________________________________________\n",
      "lstm_1 (LSTM)                   [(None, 64), (None,  33024       dot_1[0][0]                      \n",
      "                                                                 s0[0][0]                         \n",
      "                                                                 c0[0][0]                         \n",
      "                                                                 dot_1[1][0]                      \n",
      "                                                                 lstm_1[0][0]                     \n",
      "                                                                 lstm_1[0][2]                     \n",
      "                                                                 dot_1[2][0]                      \n",
      "                                                                 lstm_1[1][0]                     \n",
      "                                                                 lstm_1[1][2]                     \n",
      "                                                                 dot_1[3][0]                      \n",
      "                                                                 lstm_1[2][0]                     \n",
      "                                                                 lstm_1[2][2]                     \n",
      "                                                                 dot_1[4][0]                      \n",
      "                                                                 lstm_1[3][0]                     \n",
      "                                                                 lstm_1[3][2]                     \n",
      "                                                                 dot_1[5][0]                      \n",
      "                                                                 lstm_1[4][0]                     \n",
      "                                                                 lstm_1[4][2]                     \n",
      "                                                                 dot_1[6][0]                      \n",
      "                                                                 lstm_1[5][0]                     \n",
      "                                                                 lstm_1[5][2]                     \n",
      "                                                                 dot_1[7][0]                      \n",
      "                                                                 lstm_1[6][0]                     \n",
      "                                                                 lstm_1[6][2]                     \n",
      "                                                                 dot_1[8][0]                      \n",
      "                                                                 lstm_1[7][0]                     \n",
      "                                                                 lstm_1[7][2]                     \n",
      "                                                                 dot_1[9][0]                      \n",
      "                                                                 lstm_1[8][0]                     \n",
      "                                                                 lstm_1[8][2]                     \n",
      "__________________________________________________________________________________________________\n",
      "dense_3 (Dense)                 (None, 11)           715         lstm_1[0][0]                     \n",
      "                                                                 lstm_1[1][0]                     \n",
      "                                                                 lstm_1[2][0]                     \n",
      "                                                                 lstm_1[3][0]                     \n",
      "                                                                 lstm_1[4][0]                     \n",
      "                                                                 lstm_1[5][0]                     \n",
      "                                                                 lstm_1[6][0]                     \n",
      "                                                                 lstm_1[7][0]                     \n",
      "                                                                 lstm_1[8][0]                     \n",
      "                                                                 lstm_1[9][0]                     \n",
      "==================================================================================================\n",
      "Total params: 52,960\n",
      "Trainable params: 52,960\n",
      "Non-trainable params: 0\n",
      "__________________________________________________________________________________________________\n"
     ]
    }
   ],
   "source": [
    "model.summary()"
   ]
  },
  {
   "cell_type": "markdown",
   "metadata": {},
   "source": [
    "Navigate through the output of `model.summary()` above. You can see that the layer named `attention_weights` outputs the `alphas` of shape (m, 30, 1) before `dot_2` computes the context vector for every time step $t = 0, \\ldots, T_y-1$. Lets get the activations from this layer.\n",
    "\n",
    "The function `attention_map()` pulls out the attention values from your model and plots them."
   ]
  },
  {
   "cell_type": "code",
   "execution_count": 19,
   "metadata": {
    "ExecuteTime": {
     "end_time": "2018-12-30T04:26:12.263117Z",
     "start_time": "2018-12-30T04:26:10.730626Z"
    },
    "scrolled": false
   },
   "outputs": [
    {
     "data": {
      "text/plain": [
       "<Figure size 432x288 with 0 Axes>"
      ]
     },
     "metadata": {},
     "output_type": "display_data"
    },
    {
     "data": {
      "image/png": "[encoded data removed]",
      "text/plain": [
       "<Figure size 576x612 with 2 Axes>"
      ]
     },
     "metadata": {
      "needs_background": "light"
     },
     "output_type": "display_data"
    }
   ],
   "source": [
    "attention_map = plot_attention_map(model, human_vocab, inv_machine_vocab, \"Tuesday 09 Oct 1993\", num = 7, n_s = 64)"
   ]
  },
  {
   "cell_type": "markdown",
   "metadata": {},
   "source": [
    "On the generated plot you can observe the values of the attention weights for each character of the predicted output. Examine this plot and check that where the network is paying attention makes sense to you.\n",
    "\n",
    "In the date translation application, you will observe that most of the time attention helps predict the year, and hasn't much impact on predicting the day/month."
   ]
  },
  {
   "cell_type": "markdown",
   "metadata": {},
   "source": [
    "### Congratulations!\n",
    "\n",
    "\n",
    "You have come to the end of this assignment \n",
    "\n",
    "<font color='blue'> **Here's what you should remember from this notebook**:\n",
    "\n",
    "- Machine translation models can be used to map from one sequence to another. They are useful not just for translating human languages (like French->English) but also for tasks like date format translation. \n",
    "- An attention mechanism allows a network to focus on the most relevant parts of the input when producing a specific part of the output. \n",
    "- A network using an attention mechanism can translate from inputs of length $T_x$ to outputs of length $T_y$, where $T_x$ and $T_y$ can be different. \n",
    "- You can visualize attention weights $\\alpha^{\\langle t,t' \\rangle}$ to see what the network is paying attention to while generating each output."
   ]
  },
  {
   "cell_type": "markdown",
   "metadata": {},
   "source": [
    "Congratulations on finishing this assignment! You are now able to implement an attention model and use it to learn complex mappings from one sequence to another. "
   ]
  }
 ],
 "metadata": {
  "coursera": {
   "course_slug": "nlp-sequence-models",
   "graded_item_id": "n16CQ",
   "launcher_item_id": "npjGi"
  },
  "kernelspec": {
   "display_name": "Python 3",
   "language": "python",
   "name": "python3"
  },
  "language_info": {
   "codemirror_mode": {
    "name": "ipython",
    "version": 3
   },
   "file_extension": ".py",
   "mimetype": "text/x-python",
   "name": "python",
   "nbconvert_exporter": "python",
   "pygments_lexer": "ipython3",
   "version": "3.6.7"
  },
  "varInspector": {
   "cols": {
    "lenName": 16,
    "lenType": 16,
    "lenVar": 40
   },
   "kernels_config": {
    "python": {
     "delete_cmd_postfix": "",
     "delete_cmd_prefix": "del ",
     "library": "var_list.py",
     "varRefreshCmd": "print(var_dic_list())"
    },
    "r": {
     "delete_cmd_postfix": ") ",
     "delete_cmd_prefix": "rm(",
     "library": "var_list.r",
     "varRefreshCmd": "cat(var_dic_list()) "
    }
   },
   "types_to_exclude": [
    "module",
    "function",
    "builtin_function_or_method",
    "instance",
    "_Feature"
   ],
   "window_display": false
  }
 },
 "nbformat": 4,
 "nbformat_minor": 2
}
